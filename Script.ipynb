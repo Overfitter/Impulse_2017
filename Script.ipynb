{
 "cells": [
  {
   "cell_type": "markdown",
   "metadata": {
    "collapsed": false
   },
   "source": [
    "# Pre Processing Dataset"
   ]
  },
  {
   "cell_type": "code",
   "execution_count": null,
   "metadata": {
    "collapsed": true
   },
   "outputs": [],
   "source": [
    "##For Knot_Tying\n",
    "##Merging text files of MTM\n",
    "import glob\n",
    "\n",
    "read_files = glob.glob(\"Knot_Tying/MTM data/*.txt\")\n",
    "\n",
    "with open(\"Knot_Tying_MTM.txt\", \"wb\") as outfile:\n",
    "    for f in read_files:\n",
    "        with open(f, \"rb\") as infile:\n",
    "            outfile.write(infile.read())"
   ]
  },
  {
   "cell_type": "code",
   "execution_count": 2,
   "metadata": {
    "collapsed": true
   },
   "outputs": [],
   "source": [
    "##For Knot_Tying\n",
    "#merging text file of PSM\n",
    "import glob\n",
    "\n",
    "read_files = glob.glob(\"/Knot_Tying/PSM data/*.txt\")\n",
    "\n",
    "with open(\"Knot_Tying_PSM.txt\", \"wb\") as outfile:\n",
    "    for f in read_files:\n",
    "        with open(f, \"rb\") as infile:\n",
    "            outfile.write(infile.read())"
   ]
  },
  {
   "cell_type": "code",
   "execution_count": 3,
   "metadata": {
    "collapsed": true
   },
   "outputs": [],
   "source": [
    "## For Needle_Passing\n",
    "##Merging text files of MTM\n",
    "import glob\n",
    "\n",
    "read_files = glob.glob(\"Needle_Passing/MTM data/*.txt\")\n",
    "\n",
    "with open(\"Needle_Passing_MTM.txt\", \"wb\") as outfile:\n",
    "    for f in read_files:\n",
    "        with open(f, \"rb\") as infile:\n",
    "            outfile.write(infile.read())"
   ]
  },
  {
   "cell_type": "code",
   "execution_count": 4,
   "metadata": {
    "collapsed": true
   },
   "outputs": [],
   "source": [
    "## For Needle_Passing\n",
    "##Merging text files of PSM\n",
    "import glob\n",
    "\n",
    "read_files = glob.glob(\"Needle_Passing/PSM data/*.txt\")\n",
    "\n",
    "with open(\"Needle_Passing_PSM.txt\", \"wb\") as outfile:\n",
    "    for f in read_files:\n",
    "        with open(f, \"rb\") as infile:\n",
    "            outfile.write(infile.read())"
   ]
  },
  {
   "cell_type": "code",
   "execution_count": 5,
   "metadata": {
    "collapsed": true
   },
   "outputs": [],
   "source": [
    "## For Suturing\n",
    "##Merging text files of MTM\n",
    "import glob\n",
    "\n",
    "read_files = glob.glob(\"Suturing/MTM data/*.txt\")\n",
    "\n",
    "with open(\"Suturing_MTM.txt\", \"wb\") as outfile:\n",
    "    for f in read_files:\n",
    "        with open(f, \"rb\") as infile:\n",
    "            outfile.write(infile.read())"
   ]
  },
  {
   "cell_type": "code",
   "execution_count": 6,
   "metadata": {
    "collapsed": true
   },
   "outputs": [],
   "source": [
    "## For Suturing\n",
    "##Merging text files of PSM\n",
    "import glob\n",
    "\n",
    "read_files = glob.glob(\"PSM data/*.txt\")\n",
    "\n",
    "with open(\"Suturing_PSM.txt\", \"wb\") as outfile:\n",
    "    for f in read_files:\n",
    "        with open(f, \"rb\") as infile:\n",
    "            outfile.write(infile.read())"
   ]
  },
  {
   "cell_type": "code",
   "execution_count": 9,
   "metadata": {
    "collapsed": false
   },
   "outputs": [],
   "source": [
    "##Merging Knot_Tying, Needle_Passing and Suturing MTM Files\n",
    "filenames = ['Knot_Tying_MTM.txt', 'Needle_Passing_MTM.txt','Suturing_MTM.txt']\n",
    "with open('Train_MTM.txt', 'w') as outfile:\n",
    "    for fname in filenames:\n",
    "        with open(fname) as infile:\n",
    "            for line in infile:\n",
    "                outfile.write(line)"
   ]
  },
  {
   "cell_type": "code",
   "execution_count": 10,
   "metadata": {
    "collapsed": true
   },
   "outputs": [],
   "source": [
    "##Merging Knot_Tying, Needle_Passing and Suturing PSM Files\n",
    "filenames = ['Knot_Tying_PSM.txt', 'Needle_Passing_PSM.txt','Suturing_PSM.txt']\n",
    "with open('Test_MTM.txt', 'w') as outfile:\n",
    "    for fname in filenames:\n",
    "        with open(fname) as infile:\n",
    "            for line in infile:\n",
    "                outfile.write(line)"
   ]
  },
  {
   "cell_type": "code",
   "execution_count": null,
   "metadata": {
    "collapsed": true
   },
   "outputs": [],
   "source": []
  }
 ],
 "metadata": {
  "kernelspec": {
   "display_name": "Python 3",
   "language": "python",
   "name": "python3"
  },
  "language_info": {
   "codemirror_mode": {
    "name": "ipython",
    "version": 3
   },
   "file_extension": ".py",
   "mimetype": "text/x-python",
   "name": "python",
   "nbconvert_exporter": "python",
   "pygments_lexer": "ipython3",
   "version": "3.5.1"
  }
 },
 "nbformat": 4,
 "nbformat_minor": 0
}
